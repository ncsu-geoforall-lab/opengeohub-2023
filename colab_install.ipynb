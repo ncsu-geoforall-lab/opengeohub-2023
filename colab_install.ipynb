{
  "nbformat": 4,
  "nbformat_minor": 0,
  "metadata": {
    "colab": {
      "provenance": []
    },
    "kernelspec": {
      "name": "python3",
      "display_name": "Python 3"
    },
    "language_info": {
      "name": "python"
    }
  },
  "cells": [
    {
      "cell_type": "markdown",
      "source": [
        "# Install GRASS GIS"
      ],
      "metadata": {
        "id": "V5FdN92AUR_q"
      }
    },
    {
      "cell_type": "code",
      "execution_count": null,
      "metadata": {
        "id": "tW-I7tg_85X6"
      },
      "outputs": [],
      "source": [
        "%%bash\n",
        "DEBIAN_FRONTEND=noninteractive sudo add-apt-repository ppa:ubuntugis/ubuntugis-unstable && apt update && apt install grass subversion grass-dev parallel htop && apt remove libproj22\n",
        "git clone https://github.com/ncsu-geoforall-lab/opengeohub-2023\n",
        "cd opengeohub-2023\n",
        "sh download_dataset.sh\n",
        "grass --tmp-mapset opengeohub_2023 --exec g.extension r.futures\n",
        "grass --tmp-mapset opengeohub_2023 --exec g.extension r.mapcalc.tiled"
      ]
    },
    {
      "cell_type": "code",
      "source": [
        "import os\n",
        "os.chdir(\"opengeohub-2023\")"
      ],
      "metadata": {
        "id": "UCdzD3IbTbFb"
      },
      "execution_count": null,
      "outputs": []
    }
  ]
}