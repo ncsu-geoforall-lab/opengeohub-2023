{
 "cells": [
  {
   "cell_type": "markdown",
   "id": "47fb6e71-636b-48b4-b7ec-3ff20b5557a1",
   "metadata": {},
   "source": [
    "# Urban growth modeling in GRASS GIS: Parallel computing case study\n",
    "The purpose of this notebook is to demonstrate several parallel computing principles and how they are implemented in GRASS GIS.\n",
    "We use FUTURES urban growth model implemented as a GRASS GIS addon [r.futures](https://grass.osgeo.org/grass-stable/manuals/addons/r.futures.html).\n",
    "\n",
    "This notebook uses a [prepared dataset](https://doi.org/10.5281/zenodo.6577922). This dataset is a GRASS GIS Location containing:\n",
    " * [NLCD 2001-2019](https://www.mrlc.gov/) (land use and impervious surface descriptor)\n",
    " * [US county boundaries](https://www.census.gov/geographies/mapping-files/time-series/geo/tiger-line-file.html)\n",
    " * [US-PAD protected areas](https://www.usgs.gov/programs/gap-analysis-project/science/pad-us-data-overview)\n",
    " * [USGS DEM](https://www.usgs.gov/3d-elevation-program/about-3dep-products-services)\n",
    " \n",
    "Population files were downloaded from [Zenodo](https://doi.org/10.5281/zenodo.6577903).\n",
    "\n",
    "All the required software is already installed and includes:\n",
    " * _GRASS GIS v8.2_ with the following addons: _r.futures, r.mapcalc.tiled, r.sample.category_\n",
    " * _R_ with the following packages: _lme4, optparse, MuMIn, snow_\n",
    " * _GNU Parallel_\n",
    " * _Python 3_ with packages _pandas_\n",
    " \n",
    "This notebook combines Python 3 and Bash cells. By default a code cell is in Python. We use IPython [cell magic](https://ipython.readthedocs.io/en/stable/interactive/magics.html#cell-magics) including `%%bash`, `%%time`, and `%%writefile`."
   ]
  },
  {
   "cell_type": "markdown",
   "id": "2cab613c-cc3c-4a70-80fa-62cb296d4ae8",
   "metadata": {},
   "source": [
    "## Setting up\n",
    "The data structure is set up this way\n",
    "```\n",
    "├── grassdata\n",
    "|   └── FUTURES_SE_USA (location)\n",
    "│       ├── PERMANENT  (mapset)\n",
    "│       └── tutorial   (mapset)\n",
    "├── observed_population_SE_counties_2001-2019.csv\n",
    "└── projected_population_SE_counties_2020-2100_SSP2.csv\n",
    "\n",
    "```\n",
    "\n",
    "Change the current directory to wherever you unzipped the data, example below (modify as needed):\n",
    "\n"
   ]
  },
  {
   "cell_type": "code",
   "execution_count": null,
   "id": "e4bbc926-6ee1-443e-b6ab-a813d3e83be0",
   "metadata": {},
   "outputs": [],
   "source": [
    "import os\n",
    "\n",
    "os.chdir(os.path.expanduser(\"~/data\"))"
   ]
  },
  {
   "cell_type": "markdown",
   "id": "54d82edc-889d-4a41-aaa8-3e61ec03c489",
   "metadata": {},
   "source": [
    "Import Python packages and initialize GRASS GIS session:"
   ]
  },
  {
   "cell_type": "code",
   "execution_count": null,
   "id": "41a90175-1e87-4dda-a82f-47da95c5cf9b",
   "metadata": {},
   "outputs": [],
   "source": [
    "import subprocess\n",
    "import sys\n",
    "import pathlib\n",
    "import json\n",
    "import pandas as pd\n",
    "from IPython.display import Image\n",
    "\n",
    "# Ask GRASS GIS where its Python packages are.\n",
    "sys.path.append(\n",
    "    subprocess.check_output([\"grass\", \"--config\", \"python_path\"], text=True).strip()\n",
    ")\n",
    "\n",
    "# Import GRASS packages\n",
    "import grass.script as gs\n",
    "import grass.jupyter as gj\n",
    "\n",
    "# Start GRASS Session\n",
    "session = gj.init(\"~/data/grassdata/\", \"FUTURES_SE_USA\", \"tutorial\")"
   ]
  },
  {
   "cell_type": "markdown",
   "id": "63e1921b-0635-4178-b489-692287aeadc8",
   "metadata": {},
   "source": [
    "## Data preprocessing\n",
    "List dataset layers:"
   ]
  },
  {
   "cell_type": "code",
   "execution_count": null,
   "id": "ea67a34b-141d-4b8d-9333-69e29ea07664",
   "metadata": {},
   "outputs": [],
   "source": [
    "%%bash\n",
    "g.list type=raster,vector -p"
   ]
  },
  {
   "cell_type": "markdown",
   "id": "83bbd261-f230-4c44-a709-938ad4a19433",
   "metadata": {},
   "source": [
    "### Process county boundaries\n",
    "Extract 3 counties in Southeast US states (Georgia, North Carolina, South Carolina)\n",
    "and convert GEOID columns to integer, which is going to be useful for further processing."
   ]
  },
  {
   "cell_type": "code",
   "execution_count": null,
   "id": "032fdbbd-dd81-4261-a220-a800ef363f6d",
   "metadata": {},
   "outputs": [],
   "source": [
    "%%bash\n",
    "v.extract tl_2021_us_county output=counties where=\"STATEFP in ('13', '37', '45')\" --q\n",
    "v.db.addcolumn counties column=\"state integer\" --q\n",
    "v.db.addcolumn counties column=\"county integer\" --q\n",
    "v.db.update counties col=state qcol=\"CAST(STATEFP AS integer)\" --q\n",
    "v.db.update counties col=county qcol=\"CAST(GEOID AS integer)\" --q"
   ]
  },
  {
   "cell_type": "code",
   "execution_count": null,
   "id": "d896545e-649a-4cb3-a463-3253b66befeb",
   "metadata": {},
   "outputs": [],
   "source": [
    "m = gj.InteractiveMap()\n",
    "m.add_vector(name=\"counties\")\n",
    "m.show()"
   ]
  },
  {
   "cell_type": "markdown",
   "id": "a9d94e36-e4f8-47ec-9bdb-2318416b4939",
   "metadata": {},
   "source": [
    "Split and rasterize states for further parallelization steps:"
   ]
  },
  {
   "cell_type": "code",
   "execution_count": null,
   "id": "a77dcaed-ea27-4921-927a-66741edfb3a0",
   "metadata": {},
   "outputs": [],
   "source": [
    "states = [13, 37, 45]\n",
    "gs.use_temp_region()\n",
    "for state in states:\n",
    "    gs.run_command(\n",
    "        \"v.extract\",\n",
    "        input=\"SE_counties\",\n",
    "        where=f\"state == '{state}'\",\n",
    "        output=f\"state_{state}\",\n",
    "    )\n",
    "    gs.run_command(\"g.region\", vector=f\"state_{state}\", align=\"nlcd_2019\")\n",
    "    gs.run_command(\n",
    "        \"v.to.rast\",\n",
    "        input=f\"state_{state}\",\n",
    "        output=f\"state_{state}\",\n",
    "        use=\"attr\",\n",
    "        attribute_column=\"county\",\n",
    "    )\n",
    "gs.del_temp_region()"
   ]
  },
  {
   "cell_type": "code",
   "execution_count": null,
   "id": "2e498282-b24f-48b7-8549-31dff94f1f22",
   "metadata": {},
   "outputs": [],
   "source": [
    "m = gj.Map()\n",
    "m.d_rast(map=\"state_37\")\n",
    "m.show()"
   ]
  },
  {
   "cell_type": "code",
   "execution_count": null,
   "id": "43503141-c9fd-4961-aca4-22c4cc4aa9aa",
   "metadata": {},
   "outputs": [],
   "source": []
  }
 ],
 "metadata": {
  "kernelspec": {
   "display_name": "Python 3 (ipykernel)",
   "language": "python",
   "name": "python3"
  },
  "language_info": {
   "codemirror_mode": {
    "name": "ipython",
    "version": 3
   },
   "file_extension": ".py",
   "mimetype": "text/x-python",
   "name": "python",
   "nbconvert_exporter": "python",
   "pygments_lexer": "ipython3",
   "version": "3.8.13"
  }
 },
 "nbformat": 4,
 "nbformat_minor": 5
}
